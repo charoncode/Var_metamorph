{
 "cells": [
  {
   "cell_type": "code",
   "execution_count": null,
   "metadata": {},
   "outputs": [],
   "source": [
    "import os, sys\n",
    "sys.path.append(os.path.dirname(os.getcwd()) + '/src')\n",
    "\n",
    "import numpy as np\n",
    "from deformation import *\n",
    "from scipy.optimize import minimize, fmin_l_bfgs_b, Bounds\n",
    "\n",
    "torchdeviceId = torch.device('cuda:0') \n",
    "torchdtype = torch.float64"
   ]
  },
  {
   "cell_type": "markdown",
   "metadata": {},
   "source": [
    "### Read and prepare data"
   ]
  },
  {
   "cell_type": "code",
   "execution_count": null,
   "metadata": {},
   "outputs": [],
   "source": [
    "data = torch.load('../Data/amygdala.pt')\n",
    "amyg_sour = data['Source']\n",
    "amyg_tar = data['Target']\n",
    "\n",
    "VS = torch.from_numpy(amyg_sour['x']).clone().to(dtype=torchdtype, device=torchdeviceId)\n",
    "FS = torch.from_numpy(amyg_sour['G']).clone().to(dtype=torch.long, device=torchdeviceId)\n",
    "VT = torch.from_numpy(amyg_tar['x']).clone().to(dtype=torchdtype, device=torchdeviceId)\n",
    "FT = torch.from_numpy(amyg_tar['G']).clone().to(dtype=torch.long, device=torchdeviceId)\n",
    "\n",
    "Source = mesh2var(VS,FS)\n",
    "Target = mesh2var(VT,FT)\n",
    "\n",
    "results = {'amyg_sour':amyg_sour, 'amyg_tar':amyg_tar}"
   ]
  },
  {
   "cell_type": "markdown",
   "metadata": {},
   "source": [
    "### Set parameters"
   ]
  },
  {
   "cell_type": "code",
   "execution_count": null,
   "metadata": {},
   "outputs": [],
   "source": [
    "'''model parameters'''\n",
    "options = {}\n",
    "options['defo_kernel_size'] = 4.75\n",
    "options['odemethod'] = 'rk4'\n",
    "options['nb_euler_steps'] = 15\n",
    "options['kernel_geom'] = 'gaussian'\n",
    "options['kernel_grass'] = 'binet'\n",
    "options['sig_geom'] = 3\n",
    "options['sig_grass'] = 1.1\n",
    "options['weight_varifold_dist'] = 10\n",
    "#options['weight_meta'] = .00001\n",
    "\n",
    "'''optimization parameters'''\n",
    "opt_par = {'gtol': 1e-6, 'disp': True, 'step_size':1e-4, \n",
    "           'maxiter': 200, 'maxls': 50}"
   ]
  },
  {
   "cell_type": "markdown",
   "metadata": {},
   "source": [
    "### LDDMM-$L2$ model"
   ]
  },
  {
   "cell_type": "code",
   "execution_count": null,
   "metadata": {},
   "outputs": [],
   "source": [
    "'''model parameters'''\n",
    "options = {}\n",
    "options['defo_kernel_size'] = 4.75\n",
    "options['odemethod'] = 'rk4'\n",
    "options['nb_euler_steps'] = 15\n",
    "options['kernel_geom'] = 'gaussian'\n",
    "options['kernel_grass'] = 'binet'\n",
    "options['sig_geom'] = 3\n",
    "options['sig_grass'] = 1.1\n",
    "options['weight_varifold_dist'] = 10\n",
    "options['weight_meta'] = 0\n",
    "options['model'] = 'metapwm'\n",
    "\n",
    "'''optimization parameters'''\n",
    "opt_par = {'gtol': 1e-6, 'disp': True, 'step_size':1e-4, \n",
    "           'maxiter': 200, 'maxls': 50}\n",
    "\n",
    "\n",
    "energy_scipy = enr_scipy(Source,Target,**options) #Energy function\n",
    "\n",
    "p = np.zeros(list2vec(Source).shape[0])\n",
    "a = .5*np.ones(Source[0].shape[0])\n",
    "x0 = np.concatenate((p,a))\n",
    "\n",
    "start = time.time()\n",
    "#bounds = np.array([[-np.inf]*p.shape[0] + [1e-10]*a.shape[0], [np.inf]*(p.shape[0]+a.shape[0])]).T\n",
    "#res = GD_adapted(energy_scipy,x0,bounds=bounds,**opt_par)\n",
    "B =  np.array([[-np.inf]*p.shape[0] + [1e-10]*a.shape[0], [np.inf]*(p.shape[0]+a.shape[0])]).T\n",
    "bounds = Bounds(B[:,0], B[:,1], keep_feasible=False)\n",
    "res = minimize(energy_scipy, x0, method='L-BFGS-B', bounds=bounds, jac=True, options=opt_par) #Optimization\n",
    "\n",
    "reg_time = round(time.time() - start, 2)\n",
    "\n",
    "_,_, Enr_dic = energy_scipy(res.x)\n",
    "results['metapwm'] = {'res':res,'Enr_dic':Enr_dic,'options':options,'time':reg_time} \n",
    "\n",
    "torch.save(results,'amygdala_L2_result.pt')"
   ]
  }
 ],
 "metadata": {
  "kernelspec": {
   "display_name": "Python 3",
   "language": "python",
   "name": "python3"
  },
  "language_info": {
   "codemirror_mode": {
    "name": "ipython",
    "version": 3
   },
   "file_extension": ".py",
   "mimetype": "text/x-python",
   "name": "python",
   "nbconvert_exporter": "python",
   "pygments_lexer": "ipython3",
   "version": "3.7.4"
  }
 },
 "nbformat": 4,
 "nbformat_minor": 2
}
